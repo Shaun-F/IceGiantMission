{
 "cells": [
  {
   "cell_type": "code",
   "execution_count": 9,
   "id": "cd8aa16a-ab4f-4fb8-8d90-1902182d6c79",
   "metadata": {},
   "outputs": [],
   "source": [
    "import icegiant as ig\n",
    "import numpy as np\n",
    "import astropy.constants as cons\n",
    "import astropy.units as unit\n",
    "import time\n",
    "import matplotlib.pyplot as plt\n",
    "\n",
    "#instantiate the parameter object\n",
    "parameters = ig.params()\n",
    "\n",
    "#populate the parameter container \n",
    "parameters.mission =\"LISA\"\n",
    "parameters.thetaL =1.7721542475852274\n",
    "parameters.phiL = 0.4\n",
    "parameters.thetaS =  1.2661036727794992\n",
    "parameters.phiS = 0.5 \n",
    "parameters.M1 = 0.2*unit.M_sun.to(unit.kg) #mass of first WD in solar masses\n",
    "parameters.M2 = parameters.M1 #mass of second WD\n",
    "parameters.MP = (1.*unit.M_jup).to(unit.kg).value #mass of circumbinary planet\n",
    "parameters.Tobs = (4*unit.yr).to(unit.s).value #observation time\n",
    "parameters.Larm = 2.5e9 #length of LISA arm\n",
    "parameters.NC = 2 ##number of LISA channels\n",
    "parameters.thetaP = np.pi/2\n",
    "parameters.phiP = np.pi/2\n",
    "parameters.freqGW = 10e-3\n",
    "parameters.sourceDistance = 1#(1e3*unit.pc).to(unit.m).value #distance to source\n",
    "parameters.ig_direction = 0\n",
    "parameters.LISAAlpha = 2\n",
    "parameters.lightTwoWayTime = 15000 #time for light to travel to spacecraft and back\n",
    "parameters.DerivativeDelta = 1e-6 #delta X for calculating derivatives\n",
    "parameters.P = 0.23*ig.yr"
   ]
  },
  {
   "cell_type": "code",
   "execution_count": 10,
   "id": "69195472-9ff1-4f5d-b630-1d866eefe535",
   "metadata": {},
   "outputs": [
    {
     "data": {
      "text/plain": [
       "[('mission', 'LISA'),\n",
       " ('thetaL', 1.7721542475852274),\n",
       " ('phiL', 0.4),\n",
       " ('thetaS', 1.2661036727794992),\n",
       " ('phiS', 0.5),\n",
       " ('M1', 3.976819741396102e+29),\n",
       " ('M2', 3.976819741396102e+29),\n",
       " ('MP', 1.8981245973360505e+27),\n",
       " ('Tobs', 126230400.0),\n",
       " ('Larm', 2500000000.0),\n",
       " ('NC', 2),\n",
       " ('thetaP', 1.5707963267948966),\n",
       " ('phiP', 1.5707963267948966),\n",
       " ('mode', 's'),\n",
       " ('freqGW', 0.01),\n",
       " ('sourceDistance', 3.085677581491367e+19),\n",
       " ('ig_direction', 0.0),\n",
       " ('LISAAlpha', 2),\n",
       " ('lightTwoWayTime', 15000.0),\n",
       " ('periodSamples', 35),\n",
       " ('DerivativeDelta', 1e-06),\n",
       " ('P', 7258248.0),\n",
       " ('f1', 0.0)]"
      ]
     },
     "execution_count": 10,
     "metadata": {},
     "output_type": "execute_result"
    }
   ],
   "source": [
    "[(i, getattr(parameters,i)) for i in ['mission','thetaL','phiL','thetaS','phiS','M1','M2','MP','Tobs','Larm','NC','thetaP','phiP','mode','freqGW','sourceDistance','ig_direction','LISAAlpha','lightTwoWayTime','periodSamples','DerivativeDelta', 'P', 'f1']]"
   ]
  },
  {
   "cell_type": "code",
   "execution_count": 11,
   "id": "905c85f9-3495-4fc7-9ebd-c57ecf7da9e0",
   "metadata": {},
   "outputs": [],
   "source": [
    "#instantiate Binary \n",
    "bi = ig.Binary(parameters)\n",
    "dom = np.arange(0,0.1*ig.yr,10)\n",
    "integrand = lambda t: bi.dStrain(parameters,ig.ParameterVariables_P, t)*bi.dStrain(parameters,ig.ParameterVariables_P, t)\n",
    "strain = lambda t: bi.strain(parameters, t)"
   ]
  },
  {
   "cell_type": "code",
   "execution_count": 12,
   "id": "5c2a72c2-a565-4b9a-9288-c6df808582c7",
   "metadata": {},
   "outputs": [],
   "source": [
    "arr = [strain(i) for i in dom]"
   ]
  },
  {
   "cell_type": "code",
   "execution_count": 13,
   "id": "8096ed31-2378-44a7-86ec-a8cd4d0bc47c",
   "metadata": {},
   "outputs": [
    {
     "data": {
      "text/plain": [
       "[<matplotlib.lines.Line2D at 0x7ff36a7b5910>]"
      ]
     },
     "execution_count": 13,
     "metadata": {},
     "output_type": "execute_result"
    },
    {
     "data": {
      "image/png": "[encoded data removed]",
      "text/plain": [
       "<Figure size 640x480 with 1 Axes>"
      ]
     },
     "metadata": {},
     "output_type": "display_data"
    }
   ],
   "source": [
    "plt.plot(dom,arr)"
   ]
  },
  {
   "cell_type": "code",
   "execution_count": null,
   "id": "2dd89bb7-3bab-4dee-90f0-d783b6bfe294",
   "metadata": {},
   "outputs": [],
   "source": []
  }
 ],
 "metadata": {
  "kernelspec": {
   "display_name": "Python 3 (ipykernel)",
   "language": "python",
   "name": "python3"
  },
  "language_info": {
   "codemirror_mode": {
    "name": "ipython",
    "version": 3
   },
   "file_extension": ".py",
   "mimetype": "text/x-python",
   "name": "python",
   "nbconvert_exporter": "python",
   "pygments_lexer": "ipython3",
   "version": "3.11.6"
  }
 },
 "nbformat": 4,
 "nbformat_minor": 5
}
